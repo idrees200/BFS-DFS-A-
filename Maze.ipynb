{
  "nbformat": 4,
  "nbformat_minor": 0,
  "metadata": {
    "colab": {
      "provenance": []
    },
    "kernelspec": {
      "name": "python3",
      "display_name": "Python 3"
    },
    "language_info": {
      "name": "python"
    }
  },
  "cells": [
    {
      "cell_type": "code",
      "source": [
        "from collections import deque\n",
        "import heapq"
      ],
      "metadata": {
        "id": "1TIROWxkHG46"
      },
      "execution_count": null,
      "outputs": []
    },
    {
      "cell_type": "code",
      "source": [
        "def get_neighbors(cube, row, col):\n",
        "    n, m = len(cube), len(cube[0])\n",
        "    directions = [(0, -1), (-1, 0), (0, 1), (1, 0)]\n",
        "    neighbors = []\n",
        "    for dr, dc in directions:\n",
        "        new_row, new_col = row + dr, col + dc\n",
        "        if is_valid_move(cube, new_row, new_col):\n",
        "            neighbors.append((new_row, new_col))\n",
        "    return neighbors"
      ],
      "metadata": {
        "id": "fCi3FAdyIL8U"
      },
      "execution_count": null,
      "outputs": []
    },
    {
      "cell_type": "code",
      "source": [
        "def bfs(cube, start, goal):\n",
        "    queue = deque([(start, [start])])\n",
        "    visited = set()\n",
        "    while queue:\n",
        "        current, path = queue.popleft()\n",
        "        row, col = current\n",
        "        if current == goal:\n",
        "            return path\n",
        "        visited.add(current)\n",
        "        directions = [(0, -1), (-1, 0), (0, 1), (1, 0)]\n",
        "        for dr, dc in directions:\n",
        "            new_row, new_col = row + dr, col + dc\n",
        "            new_pos = (new_row, new_col)\n",
        "            if is_valid_move(cube, new_row, new_col) and new_pos not in visited:\n",
        "                queue.append((new_pos, path + [new_pos]))\n",
        "                visited.add(new_pos)\n",
        "    return None"
      ],
      "metadata": {
        "id": "nm-z-8WLHJ7J"
      },
      "execution_count": null,
      "outputs": []
    },
    {
      "cell_type": "code",
      "source": [
        "def is_valid_move(cube, row, col):\n",
        "    n, m = len(cube), len(cube[0])\n",
        "    return 0 <= row < n and 0 <= col < m and cube[row][col] != '1'"
      ],
      "metadata": {
        "id": "pBhCoSEPHUHc"
      },
      "execution_count": null,
      "outputs": []
    },
    {
      "cell_type": "code",
      "source": [
        "def dfs(cube, current, goal, visited, path):\n",
        "    row, col = current\n",
        "    if current == goal:\n",
        "        return path\n",
        "    visited.add(current)\n",
        "    directions = [(0, -1), (-1, 0), (0, 1), (1, 0)]\n",
        "    for dr, dc in directions:\n",
        "        new_row, new_col = row + dr, col + dc\n",
        "        new_pos = (new_row, new_col)\n",
        "        if is_valid_move(cube, new_row, new_col) and new_pos not in visited:\n",
        "            result = dfs(cube, new_pos, goal, visited, path + [new_pos])\n",
        "            if result:\n",
        "                return result\n",
        "    return None"
      ],
      "metadata": {
        "id": "-CRO2YZZHZjl"
      },
      "execution_count": null,
      "outputs": []
    },
    {
      "cell_type": "code",
      "source": [
        "def a_star(cube, start, goal):\n",
        "    priority_queue = [(0, start)]\n",
        "    heapq.heapify(priority_queue)\n",
        "    came_from = {}\n",
        "    cost_so_far = {start: 0}\n",
        "    while priority_queue:\n",
        "        current_cost, current = heapq.heappop(priority_queue)\n",
        "        if current == goal:\n",
        "            path = []\n",
        "            while current in came_from:\n",
        "                path.insert(0, current)\n",
        "                current = came_from[current]\n",
        "            path.insert(0, start)\n",
        "            return path\n",
        "        for neighbor in get_neighbors(cube, current[0], current[1]):\n",
        "            new_cost = cost_so_far[current] + 1\n",
        "            if neighbor not in cost_so_far or new_cost < cost_so_far[neighbor]:\n",
        "                cost_so_far[neighbor] = new_cost\n",
        "                priority = new_cost + heuristic(neighbor[0], neighbor[1], goal)\n",
        "                heapq.heappush(priority_queue, (priority, neighbor))\n",
        "                came_from[neighbor] = current\n",
        "    return None"
      ],
      "metadata": {
        "id": "ssRxTC6PIRqo"
      },
      "execution_count": null,
      "outputs": []
    },
    {
      "cell_type": "code",
      "source": [
        "def read_cube_from_file(filename):\n",
        "    with open(filename, 'r') as file:\n",
        "        cube = [list(line.replace(\" \", \"\").strip()) for line in file]\n",
        "    return cube"
      ],
      "metadata": {
        "id": "88AajBysHh8F"
      },
      "execution_count": null,
      "outputs": []
    },
    {
      "cell_type": "code",
      "source": [
        "filename = \"cube.txt\"\n",
        "cube = read_cube_from_file(filename)\n",
        "start = None\n",
        "goal = None"
      ],
      "metadata": {
        "id": "T0IAtmTHHlwu"
      },
      "execution_count": null,
      "outputs": []
    },
    {
      "cell_type": "code",
      "source": [
        "for i, row in enumerate(cube):\n",
        "    for j, cell in enumerate(row):\n",
        "        if cell == 'S':\n",
        "            start = (i, j)\n",
        "        elif cell == 'G':\n",
        "            goal = (i, j)\n",
        "def print_cube(cube):\n",
        "    for row in cube:\n",
        "        print(\" \".join(row))\n",
        "    print()"
      ],
      "metadata": {
        "id": "4nMnyOJkHm-B"
      },
      "execution_count": null,
      "outputs": []
    },
    {
      "cell_type": "code",
      "source": [
        "filename = \"cube2.txt\"\n",
        "cube = read_cube_from_file(filename)\n",
        "start = None\n",
        "goal = None"
      ],
      "metadata": {
        "id": "IEiy1GXgIVPw"
      },
      "execution_count": null,
      "outputs": []
    },
    {
      "cell_type": "code",
      "source": [
        "print(\"Input Cube:\")\n",
        "print_cube(cube)\n",
        "if start and goal:\n",
        "    bfs_path = bfs(cube, start, goal)\n",
        "    dfs_path = dfs(cube, start, goal, set(), [start])\n",
        "    print(\"BFS Path:\", bfs_path)\n",
        "else:\n",
        "    print(\"Start or goal not found in the cube.\")"
      ],
      "metadata": {
        "colab": {
          "base_uri": "https://localhost:8080/"
        },
        "id": "4wgaP8SfHwOB",
        "outputId": "de182114-5931-4cd2-9aae-3a0c01072976"
      },
      "execution_count": null,
      "outputs": [
        {
          "output_type": "stream",
          "name": "stdout",
          "text": [
            "Input Cube:\n",
            "1 0 S 0 1 0 0\n",
            "1 1 0 0 0 1 1\n",
            "0 1 0 1 + 0 0\n",
            "1 1 + 1 1 + 1\n",
            "0 1 0 + 0 + 0\n",
            "0 1 1 1 0 1 1\n",
            "G 0 0 0 0 0 0\n",
            "\n",
            "BFS Path: [(0, 2), (1, 2), (2, 2), (3, 2), (4, 2), (4, 3), (4, 4), (5, 4), (6, 4), (6, 3), (6, 2), (6, 1), (6, 0)]\n"
          ]
        }
      ]
    },
    {
      "cell_type": "code",
      "source": [
        "def heuristic(row, col, goal):\n",
        "    return abs(row - goal[0]) + abs(col - goal[1])"
      ],
      "metadata": {
        "id": "avcss2dMIILM"
      },
      "execution_count": null,
      "outputs": []
    },
    {
      "cell_type": "code",
      "source": [
        "print(\"Input Cube:\")\n",
        "print_cube(cube)\n",
        "if start and goal:\n",
        "    bfs_path = bfs(cube, start, goal)\n",
        "    dfs_path = dfs(cube, start, goal, set(), [start])\n",
        "    print(\"DFS Path:\", dfs_path)\n",
        "else:\n",
        "    print(\"Start or goal not found in the cube.\")"
      ],
      "metadata": {
        "colab": {
          "base_uri": "https://localhost:8080/"
        },
        "id": "9A9qYOsgLKDf",
        "outputId": "41868062-1c39-4bdb-bafd-bfcb0142fe02"
      },
      "execution_count": null,
      "outputs": [
        {
          "output_type": "stream",
          "name": "stdout",
          "text": [
            "Input Cube:\n",
            "1 0 S 0 1 0 0\n",
            "1 1 0 0 0 1 1\n",
            "0 1 0 1 + 0 0\n",
            "1 1 + 1 1 + 1\n",
            "0 1 0 + 0 + 0\n",
            "0 1 1 1 0 1 1\n",
            "G 0 0 0 0 0 0\n",
            "\n",
            "DFS Path: [(0, 2), (0, 3), (1, 3), (1, 2), (2, 2), (3, 2), (4, 2), (4, 3), (4, 4), (5, 4), (6, 4), (6, 3), (6, 2), (6, 1), (6, 0)]\n"
          ]
        }
      ]
    },
    {
      "cell_type": "code",
      "source": [
        "for i, row in enumerate(cube):\n",
        "    for j, cell in enumerate(row):\n",
        "        if cell == 'S':\n",
        "            start = (i, j)\n",
        "        elif cell == 'G':\n",
        "            goal = (i, j)\n",
        "print(\"Input Cube:\")\n",
        "print_cube(cube)\n",
        "if start and goal:\n",
        "    path = a_star(cube, start, goal)\n",
        "    print(\"A* Path:\", path)\n",
        "else:\n",
        "    print(\"Start or goal not found in the cube.\")"
      ],
      "metadata": {
        "colab": {
          "base_uri": "https://localhost:8080/"
        },
        "id": "K8OsQr-w-amr",
        "outputId": "bd37a093-1d7f-444d-ff15-f1496529fc40"
      },
      "execution_count": null,
      "outputs": [
        {
          "output_type": "stream",
          "name": "stdout",
          "text": [
            "Input Cube:\n",
            "1 0 S 0 1 0 0\n",
            "1 1 0 0 0 1 1\n",
            "0 1 0 1 + 0 0\n",
            "1 1 + 1 1 + 1\n",
            "0 1 0 + 0 + 0\n",
            "0 1 1 1 0 1 1\n",
            "G 0 0 0 0 0 0\n",
            "\n",
            "A* Path: [(0, 2), (1, 2), (2, 2), (3, 2), (4, 2), (4, 3), (4, 4), (5, 4), (6, 4), (6, 3), (6, 2), (6, 1), (6, 0)]\n"
          ]
        }
      ]
    }
  ]
}